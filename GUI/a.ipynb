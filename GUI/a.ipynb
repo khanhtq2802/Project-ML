{
 "cells": [
  {
   "cell_type": "code",
   "execution_count": 20,
   "metadata": {},
   "outputs": [],
   "source": [
    "import pandas as pd\n",
    "import joblib\n",
    "from sklearn.preprocessing import MinMaxScaler\n",
    "from sklearn.impute import KNNImputer\n",
    "from sklearn.ensemble import GradientBoostingRegressor\n",
    "from sklearn.feature_selection import RFE\n",
    "from sklearn.tree import DecisionTreeRegressor"
   ]
  },
  {
   "cell_type": "code",
   "execution_count": 26,
   "metadata": {},
   "outputs": [
    {
     "data": {
      "text/plain": [
       "['selected_columns.pkl']"
      ]
     },
     "execution_count": 26,
     "metadata": {},
     "output_type": "execute_result"
    }
   ],
   "source": [
    "# Load training data\n",
    "train_data = pd.read_csv(\"/home/khanh/projects/Project-ML/train_file.csv\")\n",
    "X_train = train_data.drop('price', axis=1)\n",
    "y_train = train_data['price']\n",
    "\n",
    "# One-hot encode categorical variables in the training data\n",
    "x_train_en = pd.get_dummies(X_train, drop_first=True)\n",
    "\n",
    "# Impute missing values\n",
    "imputer = KNNImputer()\n",
    "x_train_imputed = imputer.fit_transform(x_train_en)\n",
    "x_train_imputed_df = pd.DataFrame(x_train_imputed, columns=x_train_en.columns)\n",
    "\n",
    "# Scale features\n",
    "feature_scaler = MinMaxScaler()\n",
    "x_train_scaled = feature_scaler.fit_transform(x_train_imputed_df)\n",
    "\n",
    "# Scale target\n",
    "target_scaler = MinMaxScaler()\n",
    "y_train_scaled = target_scaler.fit_transform(y_train.values.reshape(-1, 1))\n",
    "\n",
    "# Feature selection using RFE with a DecisionTreeRegressor\n",
    "dtr = DecisionTreeRegressor()\n",
    "rfe = RFE(dtr, n_features_to_select=6)  # Adjust n_features_to_select as needed\n",
    "rfe.fit(x_train_scaled, y_train_scaled.ravel())\n",
    "\n",
    "# Select the important features\n",
    "selected_columns = x_train_imputed_df.columns[rfe.support_].tolist()\n",
    "\n",
    "# Train the model using only the selected features\n",
    "x_train_selected = x_train_imputed_df[selected_columns]\n",
    "x_train_selected_scaled = feature_scaler.fit_transform(x_train_selected)\n",
    "\n",
    "model = GradientBoostingRegressor(learning_rate=0.10903, max_depth=5, n_estimators=54)\n",
    "model.fit(x_train_selected_scaled, y_train_scaled.ravel())\n",
    "\n",
    "# Save the model, scalers, and selected columns\n",
    "joblib.dump(model, 'final_gradient_model.pkl')\n",
    "joblib.dump(feature_scaler, 'feature_scaler.pkl')\n",
    "joblib.dump(target_scaler, 'target_scaler.pkl')\n",
    "joblib.dump(selected_columns, 'selected_columns.pkl')\n"
   ]
  },
  {
   "cell_type": "code",
   "execution_count": 25,
   "metadata": {},
   "outputs": [
    {
     "name": "stdout",
     "output_type": "stream",
     "text": [
      "     id  room  area  toilet      price\n",
      "0  3309     3  84.7       2  28.514112\n"
     ]
    }
   ],
   "source": [
    "import pandas as pd\n",
    "import joblib\n",
    "from sklearn.preprocessing import MinMaxScaler\n",
    "from sklearn.impute import KNNImputer\n",
    "\n",
    "# Load the saved model\n",
    "final_gradient = joblib.load('final_gradient_model.pkl')\n",
    "\n",
    "# Load the original training data to ensure alignment of columns\n",
    "train_data = pd.read_csv(\"/home/khanh/projects/Project-ML/train_file.csv\")\n",
    "\n",
    "# Separate features (X) and target (y) from the training data\n",
    "X_train = train_data.drop('price', axis=1)\n",
    "y_train = train_data['price']\n",
    "\n",
    "# One-hot encode categorical variables in the training data\n",
    "x_train_en = pd.get_dummies(X_train, drop_first=True)\n",
    "\n",
    "# Load test data\n",
    "test_data = pd.read_csv(\"/home/khanh/projects/Project-ML/test_file.csv\")\n",
    "\n",
    "# Preprocess the first row of test data\n",
    "test_row = test_data.head(1).copy()\n",
    "\n",
    "# Save test data identifiers\n",
    "Id_pred = test_row['id']\n",
    "Room_pred = test_row['room']\n",
    "Area_pred = test_row['area']\n",
    "Toilet_pred = test_row['toilet']\n",
    "\n",
    "# Drop unnecessary columns\n",
    "test_row.drop(['room', 'area', 'toilet', 'id', 'price'], inplace=True, axis=1)\n",
    "\n",
    "# One-hot encode categorical variables in the test data\n",
    "test_en = pd.get_dummies(test_row, drop_first=True)\n",
    "\n",
    "# Align train and test data columns\n",
    "test_en = test_en.reindex(columns=x_train_en.columns, fill_value=0)\n",
    "\n",
    "# Impute missing values in the test data\n",
    "imputer = KNNImputer()\n",
    "imputer.fit(x_train_en)\n",
    "test_en_3 = imputer.transform(test_en)\n",
    "test_en_3 = pd.DataFrame(test_en_3, columns=test_en.columns)\n",
    "\n",
    "# Scale the test data\n",
    "mm_scaler = MinMaxScaler()\n",
    "mm_scaler.fit(x_train_en)\n",
    "test_scaled = pd.DataFrame(mm_scaler.transform(test_en_3), columns=test_en_3.columns)\n",
    "\n",
    "# Select the same features as used in the training\n",
    "selected_features = ['room', 'area', 'x', 'y', 'khoang_cach', 'n_hospital']\n",
    "test_selected = test_scaled[selected_features]\n",
    "\n",
    "# Predict using the loaded model\n",
    "ypred_scale = final_gradient.predict(test_selected)\n",
    "ypred_scale = pd.DataFrame(ypred_scale)\n",
    "\n",
    "# Load the target scaler used during training\n",
    "target_scaler = MinMaxScaler()\n",
    "y_train_df = pd.DataFrame(y_train)\n",
    "target_scaler.fit(y_train_df)\n",
    "\n",
    "# Inverse transform the prediction to get the original scale\n",
    "ypred = target_scaler.inverse_transform(ypred_scale)\n",
    "\n",
    "# Create a DataFrame for predictions\n",
    "pred_data = pd.DataFrame(ypred, columns=['price'])\n",
    "target_pred = pd.concat([Id_pred, Room_pred, Area_pred, Toilet_pred, pred_data], axis=1)\n",
    "\n",
    "# Display the prediction\n",
    "print(target_pred)\n"
   ]
  }
 ],
 "metadata": {
  "kernelspec": {
   "display_name": "ml-project",
   "language": "python",
   "name": "python3"
  },
  "language_info": {
   "codemirror_mode": {
    "name": "ipython",
    "version": 3
   },
   "file_extension": ".py",
   "mimetype": "text/x-python",
   "name": "python",
   "nbconvert_exporter": "python",
   "pygments_lexer": "ipython3",
   "version": "3.10.14"
  }
 },
 "nbformat": 4,
 "nbformat_minor": 2
}
