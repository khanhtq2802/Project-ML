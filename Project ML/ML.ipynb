{
 "cells": [
  {
   "cell_type": "code",
   "execution_count": null,
   "metadata": {},
   "outputs": [],
   "source": [
    "import numpy as np\n",
    "import pandas as pd\n",
    "import seaborn as sns\n",
    "import matplotlib.pyplot as plt\n",
    "from sklearn.preprocessing import MinMaxScaler\n",
    "from sklearn.feature_selection import RFE\n",
    "from sklearn.tree import DecisionTreeRegressor\n",
    "from statsmodels.stats.outliers_influence import variance_inflation_factor\n",
    "import statsmodels.api as sm\n",
    "from sklearn.model_selection import KFold\n",
    "from sklearn.model_selection import cross_val_score\n",
    "from sklearn.linear_model import LinearRegression\n",
    "from sklearn.linear_model import Ridge\n",
    "from sklearn.linear_model import Lasso\n",
    "from sklearn.linear_model import ElasticNet\n",
    "from sklearn.model_selection import GridSearchCV\n",
    "from sklearn.neighbors import KNeighborsRegressor\n",
    "from sklearn.tree import DecisionTreeRegressor\n",
    "from sklearn.svm import SVR\n",
    "from sklearn.ensemble import BaggingRegressor\n",
    "from sklearn.metrics import mean_squared_error\n",
    "from sklearn.ensemble import RandomForestRegressor\n",
    "from sklearn.ensemble import ExtraTreesRegressor\n",
    "from sklearn.ensemble import AdaBoostRegressor\n",
    "from sklearn.ensemble import GradientBoostingRegressor\n",
    "from xgboost import XGBRegressor\n",
    "from sklearn.impute import KNNImputer\n",
    "from sklearn.neighbors import LocalOutlierFactor\n",
    "import warnings"
   ]
  },
  {
   "cell_type": "code",
   "execution_count": null,
   "metadata": {},
   "outputs": [],
   "source": [
    "warnings.filterwarnings('ignore')\n",
    "pd.set_option('display.max_columns', None)\n",
    "import os\n",
    "data=pd.read_csv(\"C:/Users/Minh MPC/Downloads/train_file.csv\")\n",
    "data.head(10)\n",
    "data[data.columns[data.isna().sum() > 0]].isna().mean()*100\n",
    "X=data.drop('price', axis=1)\n",
    "y=data['price']\n",
    "x_en=pd.get_dummies(X,drop_first=True)\n",
    "imputer=KNNImputer()\n",
    "imputer.fit(x_en)\n",
    "x=imputer.transform(x_en)\n",
    "x=pd.DataFrame(x, columns=x_en.columns)\n",
    "x[x.columns[x.isna().sum() > 0]].isna().mean()*100\n",
    "lof = LocalOutlierFactor()\n",
    "yhat = lof.fit_predict(x.to_numpy())\n",
    "mask=yhat!=-1\n",
    "x_train=x.to_numpy()[mask, :]\n",
    "x_train=pd.DataFrame(x_train, columns=x.columns)\n",
    "y_train=y[mask]\n",
    "print(x_train.shape, y_train.shape)\n",
    "mm_scaler=MinMaxScaler()\n",
    "x_scaled=pd.DataFrame(mm_scaler.fit_transform(x_train), columns=x_train.columns)\n",
    "x_scaled.head()\n",
    "target_scaler=MinMaxScaler()\n",
    "y_data=pd.DataFrame(y_train)\n",
    "target_scaler.fit(y_data)\n",
    "y_scaled=target_scaler.transform(y_data)\n",
    "y_scaled\n",
    "dtr=DecisionTreeRegressor()\n",
    "dtr.fit(x_scaled,y_scaled)\n",
    "rfe=RFE(dtr)\n",
    "rfe=rfe.fit(x_scaled,y_scaled)\n",
    "x_scaled.columns[rfe.support_]\n",
    "selected_list=['room', 'area', 'x', 'y', 'khoang_cach',\n",
    "       'n_hospital']\n",
    "x_selected=x_scaled[selected_list]\n",
    "x_selected.head()\n",
    "x_features=x_selected.columns\n",
    "x_features"
   ]
  },
  {
   "cell_type": "code",
   "execution_count": null,
   "metadata": {},
   "outputs": [],
   "source": [
    "scoring='neg_mean_squared_error'\n",
    "kfold=KFold(n_splits=10, random_state=76, shuffle=True)"
   ]
  },
  {
   "cell_type": "markdown",
   "metadata": {},
   "source": [
    "KNN"
   ]
  },
  {
   "cell_type": "code",
   "execution_count": null,
   "metadata": {},
   "outputs": [],
   "source": [
    "params_KNN=dict(n_neighbors=[i for i in range(15,39)])\n",
    "model_KNN=KNeighborsRegressor()\n",
    "grid_KNN=GridSearchCV(estimator=model_KNN, param_grid=params_KNN, scoring=scoring, cv=kfold)\n",
    "grid_KNN.fit(x_selected, y_scaled)\n",
    "print(\"Best Score: %f use parameters: %s\" % (grid_KNN.best_score_, grid_KNN.best_params_))"
   ]
  }
 ],
 "metadata": {
  "language_info": {
   "name": "python"
  }
 },
 "nbformat": 4,
 "nbformat_minor": 2
}
