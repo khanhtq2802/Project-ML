{
 "cells": [
  {
   "cell_type": "code",
   "execution_count": 2,
   "metadata": {},
   "outputs": [],
   "source": [
    "import pandas as pd"
   ]
  },
  {
   "cell_type": "code",
   "execution_count": 3,
   "metadata": {},
   "outputs": [
    {
     "name": "stdout",
     "output_type": "stream",
     "text": [
      "Số lượng cột: 61\n"
     ]
    }
   ],
   "source": [
    "# Đọc dữ liệu từ file train_file.csv\n",
    "data = pd.read_csv(\"../train_file.csv\")\n",
    "\n",
    "# Loại bỏ cột id\n",
    "data.drop(\"id\", axis=1, inplace=True)\n",
    "\n",
    "# Sử dụng one-hot encoding cho các cột dạng Nominal\n",
    "nominal_columns = [\"n_hospital\", \"room\", \"toilet\", \"quan\", \"polistic\", \"furniture\", \"direct\", \"direct2\"]\n",
    "for col in nominal_columns:\n",
    "    one_hot = pd.get_dummies(data[col], prefix=col)\n",
    "    data = pd.concat([data, one_hot], axis=1)\n",
    "    data.drop(col, axis=1, inplace=True)\n",
    "\n",
    "# Tạo cột mới tên là label\n",
    "def categorize_price(price):\n",
    "    if price <= 20:\n",
    "        return 0\n",
    "    elif price <= 30:\n",
    "        return 1\n",
    "    elif price <= 45:\n",
    "        return 2\n",
    "    elif price <= 60:\n",
    "        return 3\n",
    "    else:\n",
    "        return 4\n",
    "\n",
    "data[\"label\"] = data[\"price\"].apply(categorize_price)\n",
    "\n",
    "# Loại bỏ cột price\n",
    "data.drop(\"price\", axis=1, inplace=True)\n",
    "\n",
    "# Lưu dữ liệu vào file mới tên là new_train_file.csv\n",
    "data.to_csv(\"new_train_file.csv\", index=False)\n",
    "print(\"Số lượng cột:\", data.shape[1])"
   ]
  },
  {
   "cell_type": "code",
   "execution_count": 4,
   "metadata": {},
   "outputs": [
    {
     "name": "stdout",
     "output_type": "stream",
     "text": [
      "Số lượng cột: 61\n"
     ]
    }
   ],
   "source": [
    "# Đọc dữ liệu từ file val_file.csv\n",
    "data = pd.read_csv(\"../val_file.csv\")\n",
    "\n",
    "# Loại bỏ cột id\n",
    "data.drop(\"id\", axis=1, inplace=True)\n",
    "\n",
    "# Sử dụng one-hot encoding cho các cột dạng Nominal\n",
    "nominal_columns = [\"n_hospital\", \"room\", \"toilet\", \"quan\", \"polistic\", \"furniture\", \"direct\", \"direct2\"]\n",
    "for col in nominal_columns:\n",
    "    one_hot = pd.get_dummies(data[col], prefix=col)\n",
    "    data = pd.concat([data, one_hot], axis=1)\n",
    "    data.drop(col, axis=1, inplace=True)\n",
    "\n",
    "# Tạo cột mới tên là label\n",
    "def categorize_price(price):\n",
    "    if price <= 20:\n",
    "        return 0\n",
    "    elif price <= 30:\n",
    "        return 1\n",
    "    elif price <= 45:\n",
    "        return 2\n",
    "    elif price <= 60:\n",
    "        return 3\n",
    "    else:\n",
    "        return 4\n",
    "\n",
    "data[\"label\"] = data[\"price\"].apply(categorize_price)\n",
    "\n",
    "# Loại bỏ cột price\n",
    "data.drop(\"price\", axis=1, inplace=True)\n",
    "\n",
    "# Lưu dữ liệu vào file mới tên là new_val_file.csv\n",
    "data.to_csv(\"new_val_file.csv\", index=False)\n",
    "print(\"Số lượng cột:\", data.shape[1])"
   ]
  },
  {
   "cell_type": "code",
   "execution_count": 5,
   "metadata": {},
   "outputs": [
    {
     "name": "stdout",
     "output_type": "stream",
     "text": [
      "Số lượng cột: 61\n"
     ]
    }
   ],
   "source": [
    "# Đọc dữ liệu từ file test_file.csv\n",
    "data = pd.read_csv(\"../test_file.csv\")\n",
    "\n",
    "# Loại bỏ cột id\n",
    "data.drop(\"id\", axis=1, inplace=True)\n",
    "\n",
    "# Sử dụng one-hot encoding cho các cột dạng Nominal\n",
    "nominal_columns = [\"n_hospital\", \"room\", \"toilet\", \"quan\", \"polistic\", \"furniture\", \"direct\", \"direct2\"]\n",
    "for col in nominal_columns:\n",
    "    one_hot = pd.get_dummies(data[col], prefix=col)\n",
    "    data = pd.concat([data, one_hot], axis=1)\n",
    "    data.drop(col, axis=1, inplace=True)\n",
    "\n",
    "# Tạo cột mới tên là label\n",
    "def categorize_price(price):\n",
    "    if price <= 20:\n",
    "        return 0\n",
    "    elif price <= 30:\n",
    "        return 1\n",
    "    elif price <= 45:\n",
    "        return 2\n",
    "    elif price <= 60:\n",
    "        return 3\n",
    "    else:\n",
    "        return 4\n",
    "\n",
    "data[\"label\"] = data[\"price\"].apply(categorize_price)\n",
    "\n",
    "# Loại bỏ cột price\n",
    "data.drop(\"price\", axis=1, inplace=True)\n",
    "\n",
    "# Lưu dữ liệu vào file mới tên là new_test_file.csv\n",
    "data.to_csv(\"new_test_file.csv\", index=False)\n",
    "print(\"Số lượng cột:\", data.shape[1])"
   ]
  }
 ],
 "metadata": {
  "kernelspec": {
   "display_name": "ml",
   "language": "python",
   "name": "python3"
  },
  "language_info": {
   "codemirror_mode": {
    "name": "ipython",
    "version": 3
   },
   "file_extension": ".py",
   "mimetype": "text/x-python",
   "name": "python",
   "nbconvert_exporter": "python",
   "pygments_lexer": "ipython3",
   "version": "3.10.12"
  }
 },
 "nbformat": 4,
 "nbformat_minor": 2
}
