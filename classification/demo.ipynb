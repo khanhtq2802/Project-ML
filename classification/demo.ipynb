{
 "cells": [
  {
   "cell_type": "code",
   "execution_count": 49,
   "metadata": {},
   "outputs": [],
   "source": [
    "import joblib\n",
    "import numpy as np\n",
    "import pandas as pd\n",
    "\n",
    "scaler = joblib.load('weights/scaler.pkl')\n",
    "features = ['area', 'x', 'y', 'khoang_cach', 'n_hospital_0', 'n_hospital_1',\n",
    "       'n_hospital_2', 'n_hospital_3', 'n_hospital_4', 'n_hospital_5',\n",
    "       'room_1', 'room_2', 'room_3', 'room_4', 'room_5', 'toilet_1',\n",
    "       'toilet_2', 'toilet_3', 'toilet_4', 'toilet_5', 'quan_Ba Dinh',\n",
    "       'quan_Bac Tu Liem', 'quan_Cau Giay', 'quan_Dan Phuong', 'quan_Dong Anh',\n",
    "       'quan_Dong Da', 'quan_Gia Lam', 'quan_Ha Dong', 'quan_Hai Ba Trung',\n",
    "       'quan_Hoai Duc', 'quan_Hoang Mai', 'quan_Long Bien', 'quan_Nam Tu Liem',\n",
    "       'quan_Tay Ho', 'quan_Thanh Tri', 'quan_Thanh Xuan', 'quan_Vi Thanh',\n",
    "       'polistic_chua so', 'polistic_hdmb', 'polistic_so do',\n",
    "       'furniture_cao cap', 'furniture_co ban', 'furniture_day du',\n",
    "       'furniture_nguyen_ban', 'direct_Bac', 'direct_Dong',\n",
    "       'direct_Dong - Bac', 'direct_Dong - Nam', 'direct_Nam', 'direct_Tay',\n",
    "       'direct_Tay - Bac', 'direct_Tay - Nam', 'direct2_Bac', 'direct2_Dong',\n",
    "       'direct2_Dong - Bac', 'direct2_Dong - Nam', 'direct2_Nam',\n",
    "       'direct2_Tay', 'direct2_Tay - Bac', 'direct2_Tay - Nam']\n",
    "features_to_scale = ['area', 'x', 'y', 'khoang_cach']\n",
    "boolean_columns = {\n",
    "            \"n_hospital\": [\"n_hospital_0\", \"n_hospital_1\", \"n_hospital_2\", \"n_hospital_3\", \"n_hospital_4\", \"n_hospital_5\"],\n",
    "            \"room\": [\"room_1\", \"room_2\", \"room_3\", \"room_4\", \"room_5\"],\n",
    "            \"toilet\": [\"toilet_1\", \"toilet_2\", \"toilet_3\", \"toilet_4\", \"toilet_5\"],\n",
    "            \"quan\": [\n",
    "                \"quan_Ba Dinh\", \"quan_Bac Tu Liem\", \"quan_Cau Giay\", \"quan_Dan Phuong\",\n",
    "                \"quan_Dong Anh\", \"quan_Dong Da\", \"quan_Gia Lam\", \"quan_Ha Dong\",\n",
    "                \"quan_Hai Ba Trung\", \"quan_Hoai Duc\", \"quan_Hoang Mai\", \"quan_Long Bien\",\n",
    "                \"quan_Nam Tu Liem\", \"quan_Tay Ho\", \"quan_Thanh Tri\", \"quan_Thanh Xuan\", \"quan_Vi Thanh\"\n",
    "            ],\n",
    "            \"polistic\": [\"polistic_chua so\", \"polistic_hdmb\", \"polistic_so do\"],\n",
    "            \"furniture\": [\"furniture_cao cap\", \"furniture_co ban\", \"furniture_day du\", \"furniture_nguyen_ban\"],\n",
    "            \"direct\": [\n",
    "                \"direct_Bac\", \"direct_Dong\", \"direct_Dong - Bac\", \"direct_Dong - Nam\",\n",
    "                \"direct_Nam\", \"direct_Tay\", \"direct_Tay - Bac\", \"direct_Tay - Nam\"\n",
    "            ],\n",
    "            \"direct2\": [\n",
    "                \"direct2_Bac\", \"direct2_Dong\", \"direct2_Dong - Bac\", \"direct2_Dong - Nam\",\n",
    "                \"direct2_Nam\", \"direct2_Tay\", \"direct2_Tay - Bac\", \"direct2_Tay - Nam\"\n",
    "            ]\n",
    "        }\n",
    "\n",
    "def predict(model_path, input):\n",
    "    model = joblib.load(model_path)\n",
    "    input_data = [input['area'], input['x'], input['y'], input['khoang_cach']]\n",
    "    for category in boolean_columns.keys():\n",
    "        value = category + '_' + str(input[category])\n",
    "        for column in boolean_columns[category]:\n",
    "            if column == value:\n",
    "                input_data.append(1)\n",
    "            else:\n",
    "                input_data.append(0)\n",
    "    input_data = pd.DataFrame([input_data], columns=features)\n",
    "\n",
    "    if (model_path == 'weights/svm_model.pkl' or model_path == 'weights/knn_model.pkl'):\n",
    "        scaled_feature = scaler.transform(input_data[features_to_scale])\n",
    "        input_data.drop(features_to_scale, axis=1, inplace=True)\n",
    "        input_data = pd.concat([pd.DataFrame(scaled_feature, columns=features_to_scale), input_data], axis=1)\n",
    "\n",
    "    # Make prediction\n",
    "    prediction = model.predict(input_data)\n",
    "    if prediction[0] == 0:\n",
    "        return 'price <= 20'\n",
    "    if prediction[0] == 1:\n",
    "        return '20 < price <= 30'\n",
    "    if prediction[0] == 2:\n",
    "        return '30 < price <= 45'\n",
    "    if prediction[0] <= 3:\n",
    "        return '45 < price <= 60'\n",
    "    return '60 < price'\n",
    "        \n"
   ]
  },
  {
   "cell_type": "code",
   "execution_count": 55,
   "metadata": {},
   "outputs": [
    {
     "data": {
      "text/plain": [
       "'30 < price <= 45'"
      ]
     },
     "execution_count": 55,
     "metadata": {},
     "output_type": "execute_result"
    }
   ],
   "source": [
    "'weights/gradient_boosting_model.pkl'\n",
    "'weights/randomforest.pkl'\n",
    "'weights/xgboost_model.pkl'\n",
    "'weights/knn_model.pkl'\n",
    "'weights/svm_model.pkl'\n",
    "\n",
    "model_path = 'weights/xgboost_model.pkl'\n",
    "input = {\n",
    "    'area' : 69.7,\n",
    "    'x' : 20.98434067,\n",
    "    'y' : 105.7768097,\n",
    "    'khoang_cach' : 6.49,\n",
    "    'n_hospital' : 3,\n",
    "    'room' : 2,\n",
    "    'toilet' : 2,\n",
    "    'quan' : 'Long Bien',\n",
    "    'polistic' : 'so do',\n",
    "    'furniture' : 'day du',\n",
    "    'direct' : 'Tay - Nam',\n",
    "    'direct2': 'Dong - Bac',\n",
    "    }\n",
    "\n",
    "predict(model_path, input)\n"
   ]
  }
 ],
 "metadata": {
  "kernelspec": {
   "display_name": "ml",
   "language": "python",
   "name": "python3"
  },
  "language_info": {
   "codemirror_mode": {
    "name": "ipython",
    "version": 3
   },
   "file_extension": ".py",
   "mimetype": "text/x-python",
   "name": "python",
   "nbconvert_exporter": "python",
   "pygments_lexer": "ipython3",
   "version": "3.10.12"
  }
 },
 "nbformat": 4,
 "nbformat_minor": 2
}
