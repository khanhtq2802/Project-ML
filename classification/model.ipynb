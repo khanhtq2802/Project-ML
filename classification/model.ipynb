{
 "cells": [
  {
   "cell_type": "markdown",
   "metadata": {},
   "source": [
    "random forest"
   ]
  },
  {
   "cell_type": "code",
   "execution_count": 33,
   "metadata": {},
   "outputs": [],
   "source": [
    "import pandas as pd\n",
    "from sklearn.ensemble import RandomForestClassifier, BaggingClassifier, GradientBoostingClassifier\n",
    "from sklearn.tree import DecisionTreeClassifier\n",
    "import pickle\n",
    "from sklearn.metrics import accuracy_score\n",
    "# import xgboost as xgb"
   ]
  },
  {
   "cell_type": "code",
   "execution_count": 34,
   "metadata": {},
   "outputs": [],
   "source": [
    "# Đọc dữ liệu từ file CSV\n",
    "train_data = pd.read_csv(\"new_train_file.csv\")\n",
    "val_data = pd.read_csv(\"new_val_file.csv\")\n",
    "\n",
    "X_train = train_data.drop('label', axis=1)\n",
    "y_train = train_data['label']\n",
    "X_val = val_data.drop('label', axis=1)\n",
    "y_val = val_data['label']"
   ]
  },
  {
   "cell_type": "code",
   "execution_count": 35,
   "metadata": {},
   "outputs": [
    {
     "name": "stdout",
     "output_type": "stream",
     "text": [
      "Độ chính xác: 0.8598003629764065\n"
     ]
    }
   ],
   "source": [
    "# Khởi tạo mô hình Random Forest\n",
    "model = RandomForestClassifier(n_estimators=150)\n",
    "\n",
    "# Huấn luyện mô hình\n",
    "model.fit(X_train, y_train)\n",
    "\n",
    "# Dự đoán cho tập kiểm tra\n",
    "y_pred = model.predict(X_val)\n",
    "\n",
    "# Đánh giá hiệu suất mô hình\n",
    "accuracy = accuracy_score(y_val, y_pred)\n",
    "print(\"Độ chính xác:\", accuracy)\n",
    "#save the model\n",
    "pickle.dump(model, open('weights/randomforest.pkl', 'wb'))"
   ]
  },
  {
   "cell_type": "markdown",
   "metadata": {},
   "source": [
    "bagging decision tree"
   ]
  },
  {
   "cell_type": "code",
   "execution_count": 36,
   "metadata": {},
   "outputs": [
    {
     "name": "stdout",
     "output_type": "stream",
     "text": [
      "Độ chính xác: 0.8774954627949183\n"
     ]
    }
   ],
   "source": [
    "# Khởi tạo mô hình Bagging Decision Tree\n",
    "n_estimators = 100  # Số lượng cây quyết định\n",
    "base_estimator = DecisionTreeClassifier()  # Cây quyết định cơ bản\n",
    "bagging_model = BaggingClassifier(estimator=base_estimator, n_estimators=n_estimators)\n",
    "\n",
    "# Huấn luyện mô hình\n",
    "bagging_model.fit(X_train, y_train)\n",
    "\n",
    "# Dự đoán cho tập kiểm tra\n",
    "y_pred = bagging_model.predict(X_val)\n",
    "\n",
    "# Đánh giá hiệu suất mô hình\n",
    "accuracy = accuracy_score(y_val, y_pred)\n",
    "print(\"Độ chính xác:\", accuracy)\n",
    "\n",
    "# Lưu mô hình\n",
    "pickle.dump(bagging_model, open('weights/bagging_model.pkl', 'wb'))"
   ]
  },
  {
   "cell_type": "markdown",
   "metadata": {},
   "source": [
    "Gradient Boosting"
   ]
  },
  {
   "cell_type": "code",
   "execution_count": 55,
   "metadata": {},
   "outputs": [
    {
     "name": "stdout",
     "output_type": "stream",
     "text": [
      "Độ chính xác: 0.8870235934664247\n"
     ]
    }
   ],
   "source": [
    "# Khởi tạo mô hình Gradient Boosting\n",
    "n_estimators = 150  # Số lượng cây quyết định\n",
    "learning_rate = 0.1  # Tốc độ học tập\n",
    "subsample = 1  # Tỉ lệ lấy mẫu\n",
    "max_depth = 8  # Độ sâu tối đa của cây\n",
    "\n",
    "gb_model = GradientBoostingClassifier(n_estimators=n_estimators, learning_rate=learning_rate, \n",
    "                                      subsample=subsample, max_depth=max_depth)\n",
    "\n",
    "# Huấn luyện mô hình\n",
    "gb_model.fit(X_train, y_train)\n",
    "\n",
    "# Dự đoán cho tập kiểm tra\n",
    "y_pred = gb_model.predict(X_val)\n",
    "\n",
    "# Đánh giá hiệu suất mô hình\n",
    "accuracy = accuracy_score(y_val, y_pred)\n",
    "print(\"Độ chính xác:\", accuracy)\n",
    "\n",
    "# Lưu mô hình\n",
    "import pickle\n",
    "\n",
    "pickle.dump(gb_model, open('weights/gradient_boosting_model.pkl', 'wb'))"
   ]
  }
 ],
 "metadata": {
  "kernelspec": {
   "display_name": "ml",
   "language": "python",
   "name": "python3"
  },
  "language_info": {
   "codemirror_mode": {
    "name": "ipython",
    "version": 3
   },
   "file_extension": ".py",
   "mimetype": "text/x-python",
   "name": "python",
   "nbconvert_exporter": "python",
   "pygments_lexer": "ipython3",
   "version": "3.10.12"
  }
 },
 "nbformat": 4,
 "nbformat_minor": 2
}
