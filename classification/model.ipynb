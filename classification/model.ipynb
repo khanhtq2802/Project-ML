{
 "cells": [
  {
   "cell_type": "markdown",
   "metadata": {},
   "source": [
    "random forest"
   ]
  },
  {
   "cell_type": "code",
   "execution_count": 93,
   "metadata": {},
   "outputs": [],
   "source": [
    "import pandas as pd\n",
    "from sklearn.ensemble import RandomForestClassifier, BaggingClassifier, GradientBoostingClassifier\n",
    "from sklearn.tree import DecisionTreeClassifier\n",
    "import pickle\n",
    "from sklearn.metrics import accuracy_score\n",
    "import xgboost as xgb\n",
    "from sklearn.neighbors import KNeighborsClassifier\n",
    "from sklearn.preprocessing import MinMaxScaler\n",
    "from sklearn.svm import SVC\n",
    "import matplotlib.pyplot as plt\n",
    "import numpy as np"
   ]
  },
  {
   "cell_type": "code",
   "execution_count": 12,
   "metadata": {},
   "outputs": [],
   "source": [
    "# Đọc dữ liệu từ file CSV\n",
    "train_data = pd.read_csv(\"new_train_file.csv\")\n",
    "val_data = pd.read_csv(\"new_val_file.csv\")\n",
    "test_data = pd.read_csv('new_test_file.csv')\n",
    "\n",
    "X_train = train_data.drop('label', axis=1)\n",
    "y_train = train_data['label']\n",
    "X_val = val_data.drop('label', axis=1)\n",
    "y_val = val_data['label']\n",
    "X_test = test_data.drop('label', axis=1)\n",
    "y_test = test_data['label']"
   ]
  },
  {
   "cell_type": "markdown",
   "metadata": {},
   "source": [
    "Random Forest"
   ]
  },
  {
   "cell_type": "code",
   "execution_count": 99,
   "metadata": {},
   "outputs": [
    {
     "name": "stdout",
     "output_type": "stream",
     "text": [
      "Độ chính xác tren tap train: 0.9832047208352247\n",
      "Độ chính xác tren tap val: 0.8761343012704175\n",
      "Độ chính xác tren tap test: 0.8660916931457104\n"
     ]
    }
   ],
   "source": [
    "# Khởi tạo mô hình Random Forest\n",
    "n_estimators=100\n",
    "criterion=\"entropy\"\n",
    "max_features=9\n",
    "\n",
    "randomForestClassifier = RandomForestClassifier(\n",
    "    random_state=42,\n",
    "    n_estimators=n_estimators, \n",
    "    criterion=criterion, \n",
    "    max_features=max_features,\n",
    "    )\n",
    "\n",
    "# Huấn luyện mô hình\n",
    "randomForestClassifier.fit(X_train, y_train)\n",
    "\n",
    "# Đánh giá hiệu suất mô hình\n",
    "y_pred = randomForestClassifier.predict(X_train)\n",
    "train_randomForestClassifier = accuracy_score(y_train, y_pred)\n",
    "print(\"Độ chính xác tren tap train:\", train_randomForestClassifier)\n",
    "\n",
    "y_pred = randomForestClassifier.predict(X_val)\n",
    "val_randomForestClassifier = accuracy_score(y_val, y_pred)\n",
    "print(\"Độ chính xác tren tap val:\", val_randomForestClassifier)\n",
    "\n",
    "y_pred = randomForestClassifier.predict(X_test)\n",
    "test_randomForestClassifier = accuracy_score(y_test, y_pred)\n",
    "print(\"Độ chính xác tren tap test:\", test_randomForestClassifier)\n",
    "#save the model\n",
    "pickle.dump(randomForestClassifier, open('weights/randomforest.pkl', 'wb'))"
   ]
  },
  {
   "cell_type": "markdown",
   "metadata": {},
   "source": [
    "bagging decision tree"
   ]
  },
  {
   "cell_type": "code",
   "execution_count": 36,
   "metadata": {},
   "outputs": [
    {
     "name": "stdout",
     "output_type": "stream",
     "text": [
      "Độ chính xác: 0.8774954627949183\n"
     ]
    }
   ],
   "source": [
    "# # Khởi tạo mô hình Bagging Decision Tree\n",
    "# n_estimators = 100  # Số lượng cây quyết định\n",
    "# base_estimator = DecisionTreeClassifier()  # Cây quyết định cơ bản\n",
    "# bagging_model = BaggingClassifier(estimator=base_estimator, n_estimators=n_estimators)\n",
    "\n",
    "# # Huấn luyện mô hình\n",
    "# bagging_model.fit(X_train, y_train)\n",
    "\n",
    "# # Dự đoán cho tập kiểm tra\n",
    "# y_pred = bagging_model.predict(X_val)\n",
    "\n",
    "# # Đánh giá hiệu suất mô hình\n",
    "# accuracy = accuracy_score(y_val, y_pred)\n",
    "# print(\"Độ chính xác:\", accuracy)\n",
    "\n",
    "# # Lưu mô hình\n",
    "# pickle.dump(bagging_model, open('weights/bagging_model.pkl', 'wb'))"
   ]
  },
  {
   "cell_type": "markdown",
   "metadata": {},
   "source": [
    "Gradient Boosting"
   ]
  },
  {
   "cell_type": "code",
   "execution_count": 100,
   "metadata": {},
   "outputs": [
    {
     "name": "stdout",
     "output_type": "stream",
     "text": [
      "Độ chính xác tren tap train: 0.9832047208352247\n",
      "Độ chính xác tren tap val: 0.8761343012704175\n",
      "Độ chính xác tren tap test: 0.8624602814344077\n"
     ]
    }
   ],
   "source": [
    "# Khởi tạo mô hình Gradient Boosting\n",
    "loss = 'log_loss'\n",
    "n_estimators = 100\n",
    "learning_rate = 0.1\n",
    "subsample = 1\n",
    "criterion = 'friedman_mse'\n",
    "max_depth = 11\n",
    "max_features = 8\n",
    "\n",
    "\n",
    "gb_model = GradientBoostingClassifier(\n",
    "    random_state=42,\n",
    "    n_estimators=n_estimators, \n",
    "    learning_rate=learning_rate, \n",
    "    subsample=subsample, \n",
    "    max_depth=max_depth,\n",
    "    max_features=max_features,\n",
    "    )\n",
    "\n",
    "# Huấn luyện mô hình\n",
    "gb_model.fit(X_train, y_train)\n",
    "\n",
    "# Đánh giá hiệu suất mô hình\n",
    "y_pred = gb_model.predict(X_train)\n",
    "train_gb = accuracy_score(y_train, y_pred)\n",
    "print(\"Độ chính xác tren tap train:\", train_gb)\n",
    "\n",
    "y_pred = gb_model.predict(X_val)\n",
    "val_gb = accuracy_score(y_val, y_pred)\n",
    "print(\"Độ chính xác tren tap val:\", val_gb)\n",
    "\n",
    "y_pred = gb_model.predict(X_test)\n",
    "test_gb = accuracy_score(y_test, y_pred)\n",
    "print(\"Độ chính xác tren tap test:\", test_gb)\n",
    "\n",
    "# Lưu mô hình\n",
    "pickle.dump(gb_model, open('weights/gradient_boosting_model.pkl', 'wb'))"
   ]
  },
  {
   "cell_type": "code",
   "execution_count": 101,
   "metadata": {},
   "outputs": [
    {
     "name": "stdout",
     "output_type": "stream",
     "text": [
      "Độ chính xác tren tap train: 0.9818429414434862\n",
      "Độ chính xác tren tap val: 0.8924682395644283\n",
      "Độ chính xác tren tap test: 0.8865183840217885\n"
     ]
    }
   ],
   "source": [
    "# Khởi tạo mô hình XGBoost\n",
    "n_estimators = 100  # Số lượng cây quyết định\n",
    "learning_rate = 0.6  # Tốc độ học tập\n",
    "max_depth = 7  # Độ sâu tối đa của cây\n",
    "\n",
    "xgb_model = xgb.XGBClassifier(\n",
    "    random_state=42,\n",
    "    n_estimators=n_estimators,\n",
    "    learning_rate=learning_rate,\n",
    "    max_depth=max_depth,\n",
    "    )\n",
    "\n",
    "# Huấn luyện mô hình\n",
    "xgb_model.fit(X_train, y_train)\n",
    "\n",
    "# Đánh giá hiệu suất mô hình\n",
    "y_pred = xgb_model.predict(X_train)\n",
    "train_xgb = accuracy_score(y_train, y_pred)\n",
    "print(\"Độ chính xác tren tap train:\", train_xgb)\n",
    "\n",
    "y_pred = xgb_model.predict(X_val)\n",
    "val_xgb = accuracy_score(y_val, y_pred)\n",
    "print(\"Độ chính xác tren tap val:\", val_xgb)\n",
    "\n",
    "y_pred = xgb_model.predict(X_test)\n",
    "test_xgb = accuracy_score(y_test, y_pred)\n",
    "print(\"Độ chính xác tren tap test:\", test_xgb)\n",
    "\n",
    "# Lưu mô hình\n",
    "pickle.dump(xgb_model, open('weights/xgboost_model.pkl', 'wb'))"
   ]
  },
  {
   "cell_type": "markdown",
   "metadata": {},
   "source": [
    "KNN"
   ]
  },
  {
   "cell_type": "code",
   "execution_count": 102,
   "metadata": {},
   "outputs": [],
   "source": [
    "train_data_1 = train_data.copy()\n",
    "val_data_1 = val_data.copy()\n",
    "test_data_1 = test_data.copy()\n",
    "\n",
    "# Separate features and target variable\n",
    "features_to_scale = ['area', 'x', 'y', 'khoang_cach']\n",
    "\n",
    "# Create a MinMaxScaler object\n",
    "scaler = MinMaxScaler()\n",
    "\n",
    "# Scale the features\n",
    "scaled_train = scaler.fit_transform(train_data_1[features_to_scale])\n",
    "pickle.dump(scaler, open('weights/scaler.pkl', 'wb'))\n",
    "# Modify train_data_1\n",
    "train_data_1.drop(features_to_scale, axis=1, inplace=True)\n",
    "train_data_1 = pd.concat([pd.DataFrame(scaled_train, columns=features_to_scale), train_data_1], axis=1)\n",
    "# Modify val_data_1\n",
    "scaled_val = scaler.transform(val_data_1[features_to_scale])\n",
    "val_data_1.drop(features_to_scale, axis=1, inplace=True)\n",
    "val_data_1 = pd.concat([pd.DataFrame(scaled_val, columns=features_to_scale), val_data_1], axis=1)\n",
    "# Modify test_data_1\n",
    "scaled_val = scaler.transform(test_data_1[features_to_scale])\n",
    "test_data_1.drop(features_to_scale, axis=1, inplace=True)\n",
    "test_data_1 = pd.concat([pd.DataFrame(scaled_val, columns=features_to_scale), test_data_1], axis=1)\n",
    "# Create X_train y_train, X_val, y_val\n",
    "X_train_1 = train_data_1.drop('label', axis=1)\n",
    "y_train_1 = train_data_1['label']\n",
    "\n",
    "X_val_1 = val_data_1.drop('label', axis=1)\n",
    "y_val_1 = val_data_1['label']\n",
    "\n",
    "X_test_1 = test_data_1.drop('label', axis=1)\n",
    "y_test_1 = test_data_1['label']\n",
    "\n"
   ]
  },
  {
   "cell_type": "code",
   "execution_count": 107,
   "metadata": {},
   "outputs": [
    {
     "name": "stdout",
     "output_type": "stream",
     "text": [
      "Độ chính xác tren tap train: 0.9832047208352247\n",
      "Độ chính xác tren tap val: 0.7903811252268602\n",
      "Độ chính xác tren tap test: 0.7871084884248751\n"
     ]
    }
   ],
   "source": [
    "# Khởi tạo mô hình KNN\n",
    "n_neighbors = 3  # Số lượng láng giềng gần nhất\n",
    "metric = 'minkowski'  # Hàm đo khoảng cách\n",
    "weights = 'distance'\n",
    "p=1\n",
    "knn_model = KNeighborsClassifier(\n",
    "    n_neighbors=n_neighbors, \n",
    "    metric=metric,\n",
    "    weights=weights,\n",
    "    p=p,\n",
    "    )\n",
    "# Huấn luyện mô hình\n",
    "knn_model.fit(X_train_1, y_train_1)\n",
    "\n",
    "# Đánh giá hiệu suất mô hình\n",
    "y_pred = knn_model.predict(X_train_1)\n",
    "train_knn = accuracy_score(y_train_1, y_pred)\n",
    "print(\"Độ chính xác tren tap train:\", train_knn)\n",
    "\n",
    "y_pred = knn_model.predict(X_val_1)\n",
    "val_knn = accuracy_score(y_val_1, y_pred)\n",
    "print(\"Độ chính xác tren tap val:\", val_knn)\n",
    "\n",
    "y_pred = knn_model.predict(X_test_1)\n",
    "test_knn = accuracy_score(y_test_1, y_pred)\n",
    "print(\"Độ chính xác tren tap test:\", test_knn)\n",
    "\n",
    "# Lưu mô hình\n",
    "pickle.dump(knn_model, open('weights/knn_model.pkl', 'wb'))"
   ]
  },
  {
   "cell_type": "markdown",
   "metadata": {},
   "source": [
    "SVM"
   ]
  },
  {
   "cell_type": "code",
   "execution_count": 111,
   "metadata": {},
   "outputs": [
    {
     "name": "stdout",
     "output_type": "stream",
     "text": [
      "Độ chính xác tren tap train: 0.9818429414434862\n",
      "Độ chính xác tren tap val: 0.7413793103448276\n",
      "Độ chính xác tren tap test: 0.7417158420335905\n"
     ]
    }
   ],
   "source": [
    "# Khởi tạo mô hình SVM\n",
    "C = 5000  # Hệ số điều chỉnh C\n",
    "kernel = 'rbf'  # Kernel để sử dụng trong thuật toán\n",
    "gamma = 563  # Hệ số gamma cho kernel\n",
    "\n",
    "svm_model = SVC(\n",
    "    C=C, \n",
    "    kernel=kernel, \n",
    "    gamma=gamma)\n",
    "\n",
    "# Huấn luyện mô hình\n",
    "svm_model.fit(X_train_1, y_train_1)\n",
    "\n",
    "# Đánh giá hiệu suất mô hình\n",
    "y_pred = svm_model.predict(X_train_1)\n",
    "train_svm = accuracy_score(y_train_1, y_pred)\n",
    "print(\"Độ chính xác tren tap train:\", train_svm)\n",
    "\n",
    "y_pred = svm_model.predict(X_val_1)\n",
    "val_svm = accuracy_score(y_val_1, y_pred)\n",
    "print(\"Độ chính xác tren tap val:\", val_svm)\n",
    "\n",
    "y_pred = svm_model.predict(X_test_1)\n",
    "test_svm = accuracy_score(y_test_1, y_pred)\n",
    "print(\"Độ chính xác tren tap test:\", test_svm)\n",
    "\n",
    "# Lưu mô hình\n",
    "pickle.dump(svm_model, open('weights/svm_model.pkl', 'wb'))"
   ]
  },
  {
   "cell_type": "code",
   "execution_count": 112,
   "metadata": {},
   "outputs": [
    {
     "data": {
      "image/png": "[encoded data removed]",
      "text/plain": [
       "<Figure size 640x480 with 1 Axes>"
      ]
     },
     "metadata": {},
     "output_type": "display_data"
    }
   ],
   "source": [
    "import matplotlib.pyplot as plt\n",
    "import numpy as np\n",
    "\n",
    "# Create arrays of the data\n",
    "models = ['Random Forest', 'Gradient Boosting', 'XGBoost', 'KNN', 'SVM']\n",
    "train_scores = [train_randomForestClassifier, train_gb, train_xgb, train_knn, train_svm]\n",
    "val_scores = [val_randomForestClassifier, val_gb, val_xgb, val_knn, val_svm]\n",
    "test_scores = [test_randomForestClassifier, test_gb, test_xgb, test_knn, test_svm]\n",
    "\n",
    "# Combine the scores and model names into a list of tuples for sorting\n",
    "data = list(zip(test_scores, train_scores, val_scores, models))\n",
    "\n",
    "# Sort the data by test_scores (first element of each tuple)\n",
    "data_sorted = sorted(data, key=lambda x: x[0])\n",
    "\n",
    "# Unpack the sorted data\n",
    "test_scores_sorted, train_scores_sorted, val_scores_sorted, models_sorted = zip(*data_sorted)\n",
    "\n",
    "# Plotting\n",
    "x = np.arange(len(models_sorted))  # the label locations\n",
    "\n",
    "fig, ax = plt.subplots()\n",
    "\n",
    "ax.plot(x, train_scores_sorted, marker='o', label='Train', linestyle='-', color='b')\n",
    "ax.plot(x, val_scores_sorted, marker='o', label='Validation', linestyle='-', color='g')\n",
    "ax.plot(x, test_scores_sorted, marker='o', label='Test', linestyle='-', color='r')\n",
    "\n",
    "# Add some text for labels, title and custom x-axis tick labels, etc.\n",
    "ax.set_xlabel('Models')\n",
    "ax.set_ylabel('Accuracy')\n",
    "ax.set_title('Model Performance')\n",
    "ax.set_xticks(x)\n",
    "ax.set_xticklabels(models_sorted)\n",
    "ax.legend()\n",
    "\n",
    "# Set y-axis range to start from a value close to the minimum score\n",
    "min_score = min(min(train_scores_sorted), min(val_scores_sorted), min(test_scores_sorted))\n",
    "ax.set_ylim([min_score - 0.01, 1])\n",
    "\n",
    "# Annotate the points with the actual score values\n",
    "for i in range(len(models_sorted)):\n",
    "    ax.annotate(f'{train_scores_sorted[i]:.2f}', (x[i], train_scores_sorted[i]), textcoords=\"offset points\", xytext=(0,10), ha='center', color='b')\n",
    "    ax.annotate(f'{val_scores_sorted[i]:.2f}', (x[i], val_scores_sorted[i]), textcoords=\"offset points\", xytext=(0,10), ha='center', color='g')\n",
    "    ax.annotate(f'{test_scores_sorted[i]:.2f}', (x[i], test_scores_sorted[i]), textcoords=\"offset points\", xytext=(0,10), ha='center', color='r')\n",
    "\n",
    "fig.tight_layout()\n",
    "\n",
    "plt.show()\n"
   ]
  }
 ],
 "metadata": {
  "kernelspec": {
   "display_name": "ml",
   "language": "python",
   "name": "python3"
  },
  "language_info": {
   "codemirror_mode": {
    "name": "ipython",
    "version": 3
   },
   "file_extension": ".py",
   "mimetype": "text/x-python",
   "name": "python",
   "nbconvert_exporter": "python",
   "pygments_lexer": "ipython3",
   "version": "3.10.12"
  }
 },
 "nbformat": 4,
 "nbformat_minor": 2
}
