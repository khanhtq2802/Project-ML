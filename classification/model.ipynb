{
 "cells": [
  {
   "cell_type": "markdown",
   "metadata": {},
   "source": [
    "random forest"
   ]
  },
  {
   "cell_type": "code",
   "execution_count": 1,
   "metadata": {},
   "outputs": [],
   "source": [
    "import pandas as pd\n",
    "from sklearn.ensemble import RandomForestClassifier, BaggingClassifier, GradientBoostingClassifier\n",
    "from sklearn.tree import DecisionTreeClassifier\n",
    "import pickle\n",
    "from sklearn.metrics import accuracy_score\n",
    "import xgboost as xgb\n",
    "from sklearn.neighbors import KNeighborsClassifier\n",
    "from sklearn.preprocessing import MinMaxScaler\n",
    "from sklearn.svm import SVC"
   ]
  },
  {
   "cell_type": "code",
   "execution_count": 2,
   "metadata": {},
   "outputs": [],
   "source": [
    "# Đọc dữ liệu từ file CSV\n",
    "train_data = pd.read_csv(\"new_train_file.csv\")\n",
    "val_data = pd.read_csv(\"new_val_file.csv\")\n",
    "\n",
    "X_train = train_data.drop('label', axis=1)\n",
    "y_train = train_data['label']\n",
    "X_val = val_data.drop('label', axis=1)\n",
    "y_val = val_data['label']"
   ]
  },
  {
   "cell_type": "code",
   "execution_count": 26,
   "metadata": {},
   "outputs": [
    {
     "data": {
      "text/plain": [
       "pandas.core.frame.DataFrame"
      ]
     },
     "execution_count": 26,
     "metadata": {},
     "output_type": "execute_result"
    }
   ],
   "source": [
    "type(train_data)"
   ]
  },
  {
   "cell_type": "markdown",
   "metadata": {},
   "source": [
    "Random Forest"
   ]
  },
  {
   "cell_type": "code",
   "execution_count": 65,
   "metadata": {},
   "outputs": [
    {
     "name": "stdout",
     "output_type": "stream",
     "text": [
      "Độ chính xác: 0.8693284936479129\n"
     ]
    }
   ],
   "source": [
    "# Khởi tạo mô hình Random Forest\n",
    "n_estimators=100\n",
    "criterion=\"entropy\"\n",
    "max_features=9\n",
    "\n",
    "# max_features=10\n",
    "\n",
    "model = RandomForestClassifier(\n",
    "    n_estimators=n_estimators, \n",
    "    criterion=criterion, \n",
    "    max_features=max_features,\n",
    "    )\n",
    "\n",
    "# Huấn luyện mô hình\n",
    "model.fit(X_train, y_train)\n",
    "\n",
    "# Dự đoán cho tập kiểm tra\n",
    "y_pred = model.predict(X_val)\n",
    "\n",
    "# Đánh giá hiệu suất mô hình\n",
    "accuracy = accuracy_score(y_val, y_pred)\n",
    "print(\"Độ chính xác:\", accuracy)\n",
    "#save the model\n",
    "pickle.dump(model, open('weights/randomforest.pkl', 'wb'))"
   ]
  },
  {
   "cell_type": "markdown",
   "metadata": {},
   "source": [
    "bagging decision tree"
   ]
  },
  {
   "cell_type": "code",
   "execution_count": 36,
   "metadata": {},
   "outputs": [
    {
     "name": "stdout",
     "output_type": "stream",
     "text": [
      "Độ chính xác: 0.8774954627949183\n"
     ]
    }
   ],
   "source": [
    "# Khởi tạo mô hình Bagging Decision Tree\n",
    "n_estimators = 100  # Số lượng cây quyết định\n",
    "base_estimator = DecisionTreeClassifier()  # Cây quyết định cơ bản\n",
    "bagging_model = BaggingClassifier(estimator=base_estimator, n_estimators=n_estimators)\n",
    "\n",
    "# Huấn luyện mô hình\n",
    "bagging_model.fit(X_train, y_train)\n",
    "\n",
    "# Dự đoán cho tập kiểm tra\n",
    "y_pred = bagging_model.predict(X_val)\n",
    "\n",
    "# Đánh giá hiệu suất mô hình\n",
    "accuracy = accuracy_score(y_val, y_pred)\n",
    "print(\"Độ chính xác:\", accuracy)\n",
    "\n",
    "# Lưu mô hình\n",
    "pickle.dump(bagging_model, open('weights/bagging_model.pkl', 'wb'))"
   ]
  },
  {
   "cell_type": "markdown",
   "metadata": {},
   "source": [
    "Gradient Boosting"
   ]
  },
  {
   "cell_type": "code",
   "execution_count": 3,
   "metadata": {},
   "outputs": [
    {
     "name": "stdout",
     "output_type": "stream",
     "text": [
      "Độ chính xác: 0.8720508166969148\n"
     ]
    }
   ],
   "source": [
    "# Khởi tạo mô hình Gradient Boosting\n",
    "loss = 'log_loss'\n",
    "n_estimators = 100\n",
    "learning_rate = 0.1\n",
    "subsample = 1\n",
    "criterion = 'friedman_mse'\n",
    "max_depth = 11\n",
    "max_features = 8\n",
    "\n",
    "\n",
    "gb_model = GradientBoostingClassifier(\n",
    "    n_estimators=n_estimators, \n",
    "    learning_rate=learning_rate, \n",
    "    subsample=subsample, \n",
    "    max_depth=max_depth,\n",
    "    max_features=max_features,\n",
    "    )\n",
    "\n",
    "# Huấn luyện mô hình\n",
    "gb_model.fit(X_train, y_train)\n",
    "\n",
    "# Dự đoán cho tập kiểm tra\n",
    "y_pred = gb_model.predict(X_val)\n",
    "\n",
    "# Đánh giá hiệu suất mô hình\n",
    "accuracy = accuracy_score(y_val, y_pred)\n",
    "print(\"Độ chính xác:\", accuracy)\n",
    "\n",
    "# Lưu mô hình\n",
    "import pickle\n",
    "\n",
    "pickle.dump(gb_model, open('weights/gradient_boosting_model.pkl', 'wb'))"
   ]
  },
  {
   "cell_type": "code",
   "execution_count": 322,
   "metadata": {},
   "outputs": [
    {
     "name": "stdout",
     "output_type": "stream",
     "text": [
      "Độ chính xác: 0.8924682395644283\n"
     ]
    }
   ],
   "source": [
    "# Khởi tạo mô hình XGBoost\n",
    "n_estimators = 100  # Số lượng cây quyết định\n",
    "learning_rate = 0.6  # Tốc độ học tập\n",
    "max_depth = 7  # Độ sâu tối đa của cây\n",
    "\n",
    "xgb_model = xgb.XGBClassifier(\n",
    "    random_state=42,\n",
    "    n_estimators=n_estimators,\n",
    "    learning_rate=learning_rate,\n",
    "    max_depth=max_depth,\n",
    "    )\n",
    "\n",
    "# Huấn luyện mô hình\n",
    "xgb_model.fit(X_train, y_train)\n",
    "\n",
    "# Dự đoán cho tập kiểm tra\n",
    "y_pred = xgb_model.predict(X_val)\n",
    "\n",
    "# Đánh giá hiệu suất mô hình\n",
    "accuracy = accuracy_score(y_val, y_pred)\n",
    "print(\"Độ chính xác:\", accuracy)\n",
    "\n",
    "# Lưu mô hình\n",
    "pickle.dump(xgb_model, open('weights/xgboost_model.pkl', 'wb'))"
   ]
  },
  {
   "cell_type": "markdown",
   "metadata": {},
   "source": [
    "KNN"
   ]
  },
  {
   "cell_type": "code",
   "execution_count": 7,
   "metadata": {},
   "outputs": [],
   "source": [
    "train_data_1 = train_data.copy()\n",
    "val_data_1 = val_data.copy()\n",
    "\n",
    "# Separate features and target variable\n",
    "features_to_scale = ['area', 'x', 'y', 'khoang_cach']\n",
    "\n",
    "# Create a MinMaxScaler object\n",
    "scaler = MinMaxScaler()\n",
    "\n",
    "# Scale the features\n",
    "scaled_train = scaler.fit_transform(train_data_1[features_to_scale])\n",
    "pickle.dump(scaler, open('weights/scaler.pkl', 'wb'))\n",
    "# Modify train_data_1\n",
    "train_data_1.drop(features_to_scale, axis=1, inplace=True)\n",
    "train_data_1 = pd.concat([pd.DataFrame(scaled_train, columns=features_to_scale), train_data_1], axis=1)\n",
    "# Modify val_data_1\n",
    "scaled_val = scaler.transform(val_data_1[features_to_scale])\n",
    "val_data_1.drop(features_to_scale, axis=1, inplace=True)\n",
    "val_data_1 = pd.concat([pd.DataFrame(scaled_val, columns=features_to_scale), val_data_1], axis=1)\n",
    "# Create X_train y_train, X_val, y_val\n",
    "X_train_1 = train_data_1.drop('label', axis=1)\n",
    "y_train_1 = train_data_1['label']\n",
    "X_val_1 = val_data_1.drop('label', axis=1)\n",
    "y_val_1 = val_data_1['label']\n"
   ]
  },
  {
   "cell_type": "code",
   "execution_count": 5,
   "metadata": {},
   "outputs": [
    {
     "name": "stdout",
     "output_type": "stream",
     "text": [
      "Độ chính xác: 0.7903811252268602\n"
     ]
    }
   ],
   "source": [
    "\n",
    "# Khởi tạo mô hình KNN\n",
    "n_neighbors = 3  # Số lượng láng giềng gần nhất\n",
    "metric = 'minkowski'  # Hàm đo khoảng cách\n",
    "weights = 'distance'\n",
    "p=1\n",
    "knn_model = KNeighborsClassifier(\n",
    "    n_neighbors=n_neighbors, \n",
    "    metric=metric,\n",
    "    weights=weights,\n",
    "    p=p,\n",
    "    )\n",
    "# Huấn luyện mô hình\n",
    "knn_model.fit(X_train_1, y_train_1)\n",
    "\n",
    "# Dự đoán cho tập kiểm tra\n",
    "y_pred = knn_model.predict(X_val_1)\n",
    "\n",
    "# Đánh giá hiệu suất mô hình\n",
    "accuracy = accuracy_score(y_val_1, y_pred)\n",
    "print(\"Độ chính xác:\", accuracy)\n",
    "\n",
    "# Lưu mô hình\n",
    "pickle.dump(knn_model, open('weights/knn_model.pkl', 'wb'))"
   ]
  },
  {
   "cell_type": "markdown",
   "metadata": {},
   "source": [
    "SVM"
   ]
  },
  {
   "cell_type": "code",
   "execution_count": 6,
   "metadata": {},
   "outputs": [
    {
     "name": "stdout",
     "output_type": "stream",
     "text": [
      "Độ chính xác: 0.7413793103448276\n"
     ]
    }
   ],
   "source": [
    "# Khởi tạo mô hình SVM\n",
    "C = 5000  # Hệ số điều chỉnh C\n",
    "kernel = 'rbf'  # Kernel để sử dụng trong thuật toán\n",
    "gamma = 563  # Hệ số gamma cho kernel\n",
    "\n",
    "svm_model = SVC(\n",
    "    C=C, \n",
    "    kernel=kernel, \n",
    "    gamma=gamma)\n",
    "\n",
    "# Huấn luyện mô hình\n",
    "svm_model.fit(X_train_1, y_train_1)\n",
    "\n",
    "# Dự đoán cho tập kiểm tra\n",
    "y_pred = svm_model.predict(X_val_1)\n",
    "\n",
    "# Đánh giá hiệu suất mô hình\n",
    "accuracy = accuracy_score(y_val_1, y_pred)\n",
    "print(\"Độ chính xác:\", accuracy)\n",
    "\n",
    "# Lưu mô hình\n",
    "pickle.dump(svm_model, open('weights/svm_model.pkl', 'wb'))"
   ]
  }
 ],
 "metadata": {
  "kernelspec": {
   "display_name": "ml",
   "language": "python",
   "name": "python3"
  },
  "language_info": {
   "codemirror_mode": {
    "name": "ipython",
    "version": 3
   },
   "file_extension": ".py",
   "mimetype": "text/x-python",
   "name": "python",
   "nbconvert_exporter": "python",
   "pygments_lexer": "ipython3",
   "version": "3.10.12"
  }
 },
 "nbformat": 4,
 "nbformat_minor": 2
}
