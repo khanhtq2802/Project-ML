{
 "cells": [
  {
   "cell_type": "code",
   "execution_count": 1,
   "metadata": {},
   "outputs": [],
   "source": [
    "import pandas as pd"
   ]
  },
  {
   "cell_type": "code",
   "execution_count": null,
   "metadata": {},
   "outputs": [],
   "source": [
    "# Đọc dữ liệu từ file CSV\n",
    "train_data = pd.read_csv(\"new_train_file.csv\")\n",
    "val_data = pd.read_csv(\"new_val_file.csv\")\n",
    "test_data = pd.read_csv('new_test_file.csv')\n",
    "\n",
    "X_train = train_data.drop('label', axis=1)\n",
    "y_train = train_data['label']\n",
    "X_val = val_data.drop('label', axis=1)\n",
    "y_val = val_data['label']\n",
    "X_test = test_data.drop('label', axis=1)\n",
    "y_test = test_data['label']"
   ]
  },
  {
   "cell_type": "code",
   "execution_count": null,
   "metadata": {},
   "outputs": [],
   "source": [
    "train_data_1 = train_data.copy()\n",
    "val_data_1 = val_data.copy()\n",
    "test_data_1 = test_data_1.copy()\n",
    "\n",
    "# Separate features and target variable\n",
    "features_to_scale = ['area', 'x', 'y', 'khoang_cach']\n",
    "\n",
    "# Create a MinMaxScaler object\n",
    "scaler = MinMaxScaler()\n",
    "\n",
    "# Scale the features\n",
    "scaled_train = scaler.fit_transform(train_data_1[features_to_scale])\n",
    "pickle.dump(scaler, open('weights/scaler.pkl', 'wb'))\n",
    "# Modify train_data_1\n",
    "train_data_1.drop(features_to_scale, axis=1, inplace=True)\n",
    "train_data_1 = pd.concat([pd.DataFrame(scaled_train, columns=features_to_scale), train_data_1], axis=1)\n",
    "# Modify val_data_1\n",
    "scaled_val = scaler.transform(val_data_1[features_to_scale])\n",
    "val_data_1.drop(features_to_scale, axis=1, inplace=True)\n",
    "val_data_1 = pd.concat([pd.DataFrame(scaled_val, columns=features_to_scale), val_data_1], axis=1)\n",
    "# Create X_train y_train, X_val, y_val\n",
    "X_train_1 = train_data_1.drop('label', axis=1)\n",
    "y_train_1 = train_data_1['label']\n",
    "X_val_1 = val_data_1.drop('label', axis=1)\n",
    "y_val_1 = val_data_1['label']"
   ]
  }
 ],
 "metadata": {
  "kernelspec": {
   "display_name": "ml",
   "language": "python",
   "name": "python3"
  },
  "language_info": {
   "codemirror_mode": {
    "name": "ipython",
    "version": 3
   },
   "file_extension": ".py",
   "mimetype": "text/x-python",
   "name": "python",
   "nbconvert_exporter": "python",
   "pygments_lexer": "ipython3",
   "version": "3.10.12"
  }
 },
 "nbformat": 4,
 "nbformat_minor": 2
}
